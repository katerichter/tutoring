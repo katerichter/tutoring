{
  "nbformat": 4,
  "nbformat_minor": 0,
  "metadata": {
    "colab": {
      "provenance": [],
      "authorship_tag": "ABX9TyNyJFuczZYV8brZPuHgdzDj",
      "include_colab_link": true
    },
    "kernelspec": {
      "name": "python3",
      "display_name": "Python 3"
    },
    "language_info": {
      "name": "python"
    }
  },
  "cells": [
    {
      "cell_type": "markdown",
      "metadata": {
        "id": "view-in-github",
        "colab_type": "text"
      },
      "source": [
        "<a href=\"https://colab.research.google.com/github/katerichter/tutoring/blob/main/20240215_KellyRichter.ipynb\" target=\"_parent\"><img src=\"https://colab.research.google.com/assets/colab-badge.svg\" alt=\"Open In Colab\"/></a>"
      ]
    },
    {
      "cell_type": "markdown",
      "source": [
        "### Question 2:"
      ],
      "metadata": {
        "id": "evvGJAPBCNSn"
      }
    },
    {
      "cell_type": "code",
      "source": [
        "with open(\"newdic-ipa.txt\", \"r\") as f:\n",
        "  data = f.readlines()"
      ],
      "metadata": {
        "id": "eQZjI6DNAcXE"
      },
      "execution_count": 8,
      "outputs": []
    },
    {
      "cell_type": "code",
      "execution_count": 10,
      "metadata": {
        "id": "5z_9EYl5-PA4"
      },
      "outputs": [],
      "source": [
        "lines = [line.strip() for line in data]"
      ]
    },
    {
      "cell_type": "markdown",
      "source": [
        "### Question 3:"
      ],
      "metadata": {
        "id": "fLsaQT9HCRPy"
      }
    },
    {
      "cell_type": "code",
      "source": [
        "lines[:5]"
      ],
      "metadata": {
        "colab": {
          "base_uri": "https://localhost:8080/"
        },
        "id": "z_vEMduh-fQF",
        "outputId": "7ee3acad-3827-483b-f5fb-4ec8e554a1b0"
      },
      "execution_count": 12,
      "outputs": [
        {
          "output_type": "execute_result",
          "data": {
            "text/plain": [
              "['ə\\t_\\tS1\\ta\\t23178\\t(N IA VB PP)',\n",
              " \"ɑɹdvɑɹk\\t'`\\tS2\\taardvark\\t0\\t(N)\",\n",
              " \"əbæk\\t_'\\tS2\\taback\\t2\\t(AV)\",\n",
              " \"æbəkəs\\t'__\\tS3\\tabacus\\t0\\t(N)\",\n",
              " \"əbæft\\t_'\\tS2\\tabaft\\t0\\t(AV PP)\"]"
            ]
          },
          "metadata": {},
          "execution_count": 12
        }
      ]
    },
    {
      "cell_type": "code",
      "source": [
        "lines[0].split('\\t')"
      ],
      "metadata": {
        "colab": {
          "base_uri": "https://localhost:8080/"
        },
        "id": "ECFDvn3VAym8",
        "outputId": "0a934615-9087-4231-d571-32fe9e60dff5"
      },
      "execution_count": 13,
      "outputs": [
        {
          "output_type": "execute_result",
          "data": {
            "text/plain": [
              "['ə', '_', 'S1', 'a', '23178', '(N IA VB PP)']"
            ]
          },
          "metadata": {},
          "execution_count": 13
        }
      ]
    },
    {
      "cell_type": "code",
      "source": [
        "lines[1].split('\\t')"
      ],
      "metadata": {
        "colab": {
          "base_uri": "https://localhost:8080/"
        },
        "id": "h4Rlb2e5A5Sd",
        "outputId": "b2af8c22-6852-4dc5-ca81-68bd1a7211d7"
      },
      "execution_count": 14,
      "outputs": [
        {
          "output_type": "execute_result",
          "data": {
            "text/plain": [
              "['ɑɹdvɑɹk', \"'`\", 'S2', 'aardvark', '0', '(N)']"
            ]
          },
          "metadata": {},
          "execution_count": 14
        }
      ]
    },
    {
      "cell_type": "code",
      "source": [
        "set([line.split('\\t')[2] for line in lines])"
      ],
      "metadata": {
        "colab": {
          "base_uri": "https://localhost:8080/"
        },
        "id": "Su74lxu8F-HO",
        "outputId": "5416fcfe-9177-46e2-c589-c24c4d6fd980"
      },
      "execution_count": 29,
      "outputs": [
        {
          "output_type": "execute_result",
          "data": {
            "text/plain": [
              "{'S1', 'S2', 'S3', 'S4', 'S5', 'S6', 'S7', 'S8'}"
            ]
          },
          "metadata": {},
          "execution_count": 29
        }
      ]
    },
    {
      "cell_type": "code",
      "source": [
        "list(set([line.split('\\t')[5] for line in lines]))[:20]"
      ],
      "metadata": {
        "colab": {
          "base_uri": "https://localhost:8080/"
        },
        "id": "XRrwPHrOGq0z",
        "outputId": "b55ae9dc-4979-471c-8260-2f6c728f6e78"
      },
      "execution_count": 54,
      "outputs": [
        {
          "output_type": "execute_result",
          "data": {
            "text/plain": [
              "['(AJ VT)',\n",
              " '(AV PP AJ)',\n",
              " '(PN CJ AJ AV)',\n",
              " '(AV N AJ)',\n",
              " '(VT VI VA N)',\n",
              " '(VI AV N AJ VT)',\n",
              " '(AJ CJ PN N)',\n",
              " '(AJ VI VT)',\n",
              " '(AJ AV PP N)',\n",
              " '(VI VT AJ N AV)',\n",
              " '(AJ VT VI)',\n",
              " '(PN AJ N)',\n",
              " '(N AJ)',\n",
              " '(IJ N)',\n",
              " '(AV AJ N)',\n",
              " '(CJ PN AV)',\n",
              " '(AV CJ)',\n",
              " '(PP CJ N)',\n",
              " '(VI AV N)',\n",
              " '(N VT VI)']"
            ]
          },
          "metadata": {},
          "execution_count": 54
        }
      ]
    },
    {
      "cell_type": "code",
      "source": [
        "list(set([line.split('\\t')[1] for line in lines]))[:5]"
      ],
      "metadata": {
        "colab": {
          "base_uri": "https://localhost:8080/"
        },
        "id": "h835n7yNGOx_",
        "outputId": "2218dec2-8f57-4288-e152-843a0e2c46a9"
      },
      "execution_count": 32,
      "outputs": [
        {
          "output_type": "execute_result",
          "data": {
            "text/plain": [
              "[\"_'_\", \"``_`_'__\", \"`__'_\", \"_'__`\", \"'`__\"]"
            ]
          },
          "metadata": {},
          "execution_count": 32
        }
      ]
    },
    {
      "cell_type": "markdown",
      "source": [
        "**Notes:**\n",
        "\n",
        "6 entries per line, Entries:\n",
        "\n",
        "1.   pronunciation\n",
        "2.   stress pattern\n",
        "3.   number of syllables\n",
        "4.   words\n",
        "5.   count\n",
        "6.   part of speech"
      ],
      "metadata": {
        "id": "y4kOYLOyCjJL"
      }
    },
    {
      "cell_type": "markdown",
      "source": [
        "### Question 4\n",
        "\n",
        "This task is asking you to identify the most common stress pattern (i.e., the pattern of emphasis or accentuation) for nouns that have two syllables (disyllabic)"
      ],
      "metadata": {
        "id": "ci0aTIjGCWvb"
      }
    },
    {
      "cell_type": "code",
      "source": [
        "disyllabic_lines = [line for line in lines if line.split('\\t')[2] == 'S2']"
      ],
      "metadata": {
        "id": "mSffmkvZCdd5"
      },
      "execution_count": 33,
      "outputs": []
    },
    {
      "cell_type": "code",
      "source": [
        "def get_frequent_stress_pattern(lines, part_of_speech):\n",
        "\n",
        "  stress_pattern_counter = {}\n",
        "  for line in lines:\n",
        "\n",
        "    part_of_speech_list = line.split('\\t')[-1].replace(\"(\", \"\").replace(\")\", \"\").split(\" \")\n",
        "\n",
        "    if part_of_speech in part_of_speech_list:\n",
        "      stress_pattern = line.split('\\t')[1]\n",
        "\n",
        "      if stress_pattern in stress_pattern_counter:\n",
        "        stress_pattern_counter[stress_pattern] += 1\n",
        "      else:\n",
        "        stress_pattern_counter[stress_pattern] = 1\n",
        "\n",
        "  return stress_pattern_counter\n"
      ],
      "metadata": {
        "id": "cRRcK-hWG1yD"
      },
      "execution_count": 47,
      "outputs": []
    },
    {
      "cell_type": "code",
      "source": [
        "# Most frequent stress pattern for disyllabic nouns\n",
        "get_frequent_stress_pattern(disyllabic_lines, \"N\")"
      ],
      "metadata": {
        "colab": {
          "base_uri": "https://localhost:8080/"
        },
        "id": "5t_ocSTxGmnK",
        "outputId": "88f9f942-e56f-446a-ce9a-11246daefa0e"
      },
      "execution_count": 50,
      "outputs": [
        {
          "output_type": "execute_result",
          "data": {
            "text/plain": [
              "{\"'`\": 1318, \"_'\": 595, \"'_\": 2974, \"`'\": 59}"
            ]
          },
          "metadata": {},
          "execution_count": 50
        }
      ]
    },
    {
      "cell_type": "code",
      "source": [
        "# Most frequent stress pattern for disyllabic verbs\n",
        "get_frequent_stress_pattern(disyllabic_lines, \"VT\")  # Note - is this right??"
      ],
      "metadata": {
        "colab": {
          "base_uri": "https://localhost:8080/"
        },
        "id": "d75G-B5ZJDLw",
        "outputId": "6a6a2ab1-4e91-478b-cb5d-bd5f7b7ae467"
      },
      "execution_count": 55,
      "outputs": [
        {
          "output_type": "execute_result",
          "data": {
            "text/plain": [
              "{\"_'\": 795, \"'_\": 897, \"'`\": 213, \"`'\": 105}"
            ]
          },
          "metadata": {},
          "execution_count": 55
        }
      ]
    },
    {
      "cell_type": "code",
      "source": [
        "# Most frequent stress pattern for disyllabic adjective\n",
        "get_frequent_stress_pattern(disyllabic_lines, \"AJ\")"
      ],
      "metadata": {
        "colab": {
          "base_uri": "https://localhost:8080/"
        },
        "id": "bPEiDjwDJDwd",
        "outputId": "7e8a1bdb-8834-4625-d9ac-3553ca9dab43"
      },
      "execution_count": 52,
      "outputs": [
        {
          "output_type": "execute_result",
          "data": {
            "text/plain": [
              "{\"'`\": 164, \"_'\": 204, \"'_\": 1047, \"`'\": 43}"
            ]
          },
          "metadata": {},
          "execution_count": 52
        }
      ]
    },
    {
      "cell_type": "markdown",
      "source": [
        "### Question 5:"
      ],
      "metadata": {
        "id": "0fb91YUHCHBB"
      }
    },
    {
      "cell_type": "code",
      "source": [
        "pron = {}\n",
        "for line in lines:\n",
        "  entries = line.split('\\t')\n",
        "  pron.update({entries[3]: entries[0]})"
      ],
      "metadata": {
        "id": "2ymdWgt4BNRk"
      },
      "execution_count": 28,
      "outputs": []
    },
    {
      "cell_type": "code",
      "source": [
        "pron['machine']"
      ],
      "metadata": {
        "colab": {
          "base_uri": "https://localhost:8080/",
          "height": 35
        },
        "id": "-Iz_poh1BVCC",
        "outputId": "de6a2856-e0af-4308-a8f1-1b1690a51c06"
      },
      "execution_count": 22,
      "outputs": [
        {
          "output_type": "execute_result",
          "data": {
            "text/plain": [
              "'məʃin'"
            ],
            "application/vnd.google.colaboratory.intrinsic+json": {
              "type": "string"
            }
          },
          "metadata": {},
          "execution_count": 22
        }
      ]
    },
    {
      "cell_type": "markdown",
      "source": [
        "### Question 6:"
      ],
      "metadata": {
        "id": "wxaU5V2vDBQx"
      }
    },
    {
      "cell_type": "code",
      "source": [
        "def pronounce(sentence):\n",
        "  words = sentence.split(\" \")\n",
        "\n",
        "  pronounciation = \"\"\n",
        "  for word in words:\n",
        "    pronounciation += \" \" + pron[word]\n",
        "\n",
        "  return pronounciation.strip()"
      ],
      "metadata": {
        "id": "bP2SvAUyB7WL"
      },
      "execution_count": 25,
      "outputs": []
    },
    {
      "cell_type": "code",
      "source": [
        "pronounce(\"machine learning is easy\")"
      ],
      "metadata": {
        "colab": {
          "base_uri": "https://localhost:8080/",
          "height": 35
        },
        "id": "Yx-zUilYDi-5",
        "outputId": "1b476544-3ec1-45c9-f32b-dbc871ef8466"
      },
      "execution_count": 26,
      "outputs": [
        {
          "output_type": "execute_result",
          "data": {
            "text/plain": [
              "'məʃin lɝnɪŋ ɪz izi'"
            ],
            "application/vnd.google.colaboratory.intrinsic+json": {
              "type": "string"
            }
          },
          "metadata": {},
          "execution_count": 26
        }
      ]
    },
    {
      "cell_type": "code",
      "source": [],
      "metadata": {
        "id": "z5P_-MUXDttX"
      },
      "execution_count": null,
      "outputs": []
    }
  ]
}